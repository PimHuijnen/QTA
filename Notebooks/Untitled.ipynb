{
 "cells": [
  {
   "cell_type": "code",
   "execution_count": 1,
   "id": "e13dc643",
   "metadata": {},
   "outputs": [],
   "source": [
    "import pandas as pd"
   ]
  },
  {
   "cell_type": "code",
   "execution_count": 5,
   "id": "a0eb05f6",
   "metadata": {},
   "outputs": [],
   "source": [
    "df = pd.read_csv('/Users/huijn001/surfdrive/data_lokaal/test1/dataset_df.csv', sep='\\t')"
   ]
  },
  {
   "cell_type": "code",
   "execution_count": 6,
   "id": "c033302b",
   "metadata": {},
   "outputs": [
    {
     "name": "stdout",
     "output_type": "stream",
     "text": [
      "   Unnamed: 0                       year  \\\n",
      "0           0               1997_contact   \n",
      "1           1  1990_back_to_the_future_3   \n",
      "2           2                  1968_2001   \n",
      "3           3            1990_awakenings   \n",
      "4           4          2021_dont_look_up   \n",
      "\n",
      "                                                text  \n",
      "0  It 's obviously a major malfunction . ... thei...  \n",
      "1  Doc . Doc . -Doc ! -What ? Relax , Doc . It 's...  \n",
      "2  Note from poster to Kubrick newsgroup : I foun...  \n",
      "3  Scripts.com Awakenings By Steven Zaillian Page...  \n",
      "4  DO N'T LOOK UP Written by Adam McKay Story by ...  \n"
     ]
    }
   ],
   "source": [
    "print(df.head())"
   ]
  },
  {
   "cell_type": "code",
   "execution_count": null,
   "id": "d76d987c",
   "metadata": {},
   "outputs": [],
   "source": []
  }
 ],
 "metadata": {
  "kernelspec": {
   "display_name": "Python 3 (ipykernel)",
   "language": "python",
   "name": "python3"
  },
  "language_info": {
   "codemirror_mode": {
    "name": "ipython",
    "version": 3
   },
   "file_extension": ".py",
   "mimetype": "text/x-python",
   "name": "python",
   "nbconvert_exporter": "python",
   "pygments_lexer": "ipython3",
   "version": "3.11.3"
  }
 },
 "nbformat": 4,
 "nbformat_minor": 5
}

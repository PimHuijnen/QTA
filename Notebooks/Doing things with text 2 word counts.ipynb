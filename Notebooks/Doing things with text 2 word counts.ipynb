{
 "cells": [
  {
   "cell_type": "markdown",
   "metadata": {},
   "source": [
    "# Doing things with text 2\n",
    "\n",
    "## Counting words from a \\*preprocessed\\* text"
   ]
  },
  {
   "cell_type": "markdown",
   "metadata": {},
   "source": [
    "### Import packages"
   ]
  },
  {
   "cell_type": "code",
   "execution_count": null,
   "metadata": {},
   "outputs": [],
   "source": [
    "from bs4 import BeautifulSoup\n",
    "import unicodedata\n",
    "import re\n",
    "import os\n",
    "from nltk.tokenize import word_tokenize  # needs to be installed first via nltk.download()\n",
    "from nltk.corpus import stopwords  # needs to be installed first via nltk.download()\n",
    "from wordcloud import WordCloud\n",
    "import matplotlib.pyplot as plt \n",
    "from collections import Counter"
   ]
  },
  {
   "cell_type": "markdown",
   "metadata": {},
   "source": [
    "### Import and read text file"
   ]
  },
  {
   "cell_type": "code",
   "execution_count": null,
   "metadata": {},
   "outputs": [],
   "source": [
    "indir = r'/path/to/indir/'\n",
    "outdir = r'/path/to/outdir/'\n",
    "os.makedirs(os.path.dirname(outdir), exist_ok=True) # makes outdir if it doesn't exist already"
   ]
  },
  {
   "cell_type": "code",
   "execution_count": null,
   "metadata": {},
   "outputs": [],
   "source": [
    "file = 'infile.txt' # change 'infile' for actual file name\n",
    "file_path = indir + file"
   ]
  },
  {
   "cell_type": "code",
   "execution_count": null,
   "metadata": {},
   "outputs": [],
   "source": [
    "with open(file_path, encoding='utf8') as f:\n",
    "    text = f.read()"
   ]
  },
  {
   "cell_type": "code",
   "execution_count": null,
   "metadata": {},
   "outputs": [],
   "source": [
    "print(text[:100])"
   ]
  },
  {
   "cell_type": "code",
   "execution_count": null,
   "metadata": {},
   "outputs": [],
   "source": [
    "input_as_list = [x for x in text.split(' ')]"
   ]
  },
  {
   "cell_type": "code",
   "execution_count": null,
   "metadata": {},
   "outputs": [],
   "source": [
    "print(input_as_list[:100])"
   ]
  },
  {
   "cell_type": "code",
   "execution_count": null,
   "metadata": {},
   "outputs": [],
   "source": [
    "print(len(input_as_list))"
   ]
  },
  {
   "cell_type": "markdown",
   "metadata": {},
   "source": [
    "**If needed, remove custom stop words**"
   ]
  },
  {
   "cell_type": "code",
   "execution_count": null,
   "metadata": {},
   "outputs": [],
   "source": [
    "def custom_stop_words(words):\n",
    "    \"\"\" Given a list of words and custom stop words, remove custom stop words \"\"\"\n",
    "    new_words = []\n",
    "    for word in words:\n",
    "        if word not in custom_words:\n",
    "            new_words.append(word)\n",
    "    return new_words"
   ]
  },
  {
   "cell_type": "code",
   "execution_count": null,
   "metadata": {},
   "outputs": [],
   "source": [
    "custom_words = ['the', 'and', 'that', 'with', 'said', 'this', 'when', \n",
    "                'them', 'were', 'from', 'will', 'there', 'they', 'then', \n",
    "                'their', 'your', 'would', 'only', 'even', 'know', 'could', \n",
    "                'have', 'where', 'come', 'been', 'made', 'well']"
   ]
  },
  {
   "cell_type": "code",
   "execution_count": null,
   "metadata": {},
   "outputs": [],
   "source": [
    "input_as_list = custom_stop_words(input_as_list)"
   ]
  },
  {
   "cell_type": "markdown",
   "metadata": {},
   "source": [
    "## Identify and count most common words"
   ]
  },
  {
   "cell_type": "markdown",
   "metadata": {},
   "source": [
    "### **Step 1: most common words globally**"
   ]
  },
  {
   "cell_type": "code",
   "execution_count": null,
   "metadata": {},
   "outputs": [],
   "source": [
    "number_top_words = 20 # set number of most common words to print/plot"
   ]
  },
  {
   "cell_type": "code",
   "execution_count": null,
   "metadata": {},
   "outputs": [],
   "source": [
    "word_counts_total = Counter(input_as_list)\n",
    "most_common_total = word_counts_total.most_common(number_top_words)"
   ]
  },
  {
   "cell_type": "markdown",
   "metadata": {},
   "source": [
    "**Count the total number of types (unique words) in text from 'file' after preprocessing**"
   ]
  },
  {
   "cell_type": "code",
   "execution_count": null,
   "metadata": {},
   "outputs": [],
   "source": [
    "print(\"The total number of types in \\'%s\\' is: %s\" %(str(file), len(word_counts_total)))"
   ]
  },
  {
   "cell_type": "markdown",
   "metadata": {},
   "source": [
    "**Calculate lexical diversity by dividing number of types by number of tokens (= type token ratio, or TTR)**"
   ]
  },
  {
   "cell_type": "code",
   "execution_count": null,
   "metadata": {},
   "outputs": [],
   "source": [
    "print(f\"The type token ratio of \\'{str(file)}\\' is: {round(len(word_counts_total)/len(input_as_list)*100, 1)}%\")"
   ]
  },
  {
   "cell_type": "markdown",
   "metadata": {},
   "source": [
    "### Visualize most common words in a bar chart"
   ]
  },
  {
   "cell_type": "code",
   "execution_count": null,
   "metadata": {
    "scrolled": true
   },
   "outputs": [],
   "source": [
    "#### From https://stackoverflow.com/questions/63018726/counter-and-plot-the-most-common-word-in-a-text ####\n",
    "\n",
    "y = [count for word, count in most_common_total]\n",
    "x = [word for word, count in most_common_total]\n",
    "\n",
    "plt.rcParams[\"figure.figsize\"] = (20,10)\n",
    "plt.bar(x, y, color='crimson')\n",
    "plt.title(\"Most common terms\")\n",
    "plt.ylabel(\"Counts\")\n",
    "plt.xlabel(\"Terms\")\n",
    "plt.rc('xtick',labelsize=12)\n",
    "plt.rc('ytick',labelsize=12)\n",
    "#plt.yscale('log') # optionally set a log scale for the y-axis\n",
    "plt.xticks(rotation=45)\n",
    "for i, (word, count) in enumerate(most_common_total):\n",
    "    plt.text(i, count, f' {count} ', rotation=45, size=16,\n",
    "             ha='center', va='top' if i < 10 else 'bottom', color='white' if i < 10 else 'black')\n",
    "plt.xlim(-0.6, len(x)-0.4) # optionally set tighter x lims\n",
    "plt.tight_layout() # change the whitespace such that all labels fit nicely\n",
    "plt.savefig(outdir + '2015_most_common.png', dpi=200, bbox_inches='tight') # change filename as wished\n",
    "plt.show()"
   ]
  },
  {
   "cell_type": "markdown",
   "metadata": {},
   "source": [
    "### Visualize most common words in a word cloud\n",
    "\n",
    "#### Turn input_as_list into string¶"
   ]
  },
  {
   "cell_type": "code",
   "execution_count": null,
   "metadata": {},
   "outputs": [],
   "source": [
    "input_as_string = \" \".join(input_as_list)"
   ]
  },
  {
   "cell_type": "markdown",
   "metadata": {},
   "source": [
    "**generate wordcloud**"
   ]
  },
  {
   "cell_type": "code",
   "execution_count": null,
   "metadata": {},
   "outputs": [],
   "source": [
    "text_cloud = WordCloud(background_color='white', stopwords=custom_words).generate(input_as_string)"
   ]
  },
  {
   "cell_type": "code",
   "execution_count": null,
   "metadata": {},
   "outputs": [],
   "source": [
    "plt.imshow(text_cloud, interpolation='bilinear')\n",
    "plt.axis('off')\n",
    "plt.savefig(outdir + '2015_wordcloud.png', dpi=200, bbox_inches='tight') # change filename as wished\n",
    "plt.show()"
   ]
  },
  {
   "cell_type": "markdown",
   "metadata": {},
   "source": [
    "### **Step 2: Most common words by word length**"
   ]
  },
  {
   "cell_type": "code",
   "execution_count": null,
   "metadata": {},
   "outputs": [],
   "source": [
    "three_words = []\n",
    "four_words = []\n",
    "five_words = []\n",
    "six_words = []\n",
    "seven_words = []\n",
    "eight_words = []\n",
    "nine_words = []\n",
    "ten_plus_words = []\n",
    "\n",
    "for word in input_as_list:\n",
    "    if len(word) == 3:\n",
    "        three_words.append(word)\n",
    "    elif len(word) == 4:\n",
    "        four_words.append(word)\n",
    "    elif len(word) == 5:\n",
    "        five_words.append(word)\n",
    "    elif len(word) == 6:\n",
    "        six_words.append(word)\n",
    "    elif len(word) == 7:\n",
    "        seven_words.append(word)\n",
    "    elif len(word) == 8:\n",
    "        eight_words.append(word)\n",
    "    elif len(word) == 9:\n",
    "        nine_words.append(word)\n",
    "    else:\n",
    "        ten_plus_words.append(word)"
   ]
  },
  {
   "cell_type": "code",
   "execution_count": null,
   "metadata": {},
   "outputs": [],
   "source": [
    "all_word_lists = {'three': three_words, \n",
    "                  'four': four_words, \n",
    "                  'five': five_words, \n",
    "                  'six': six_words, \n",
    "                  'seven': seven_words, \n",
    "                  'eight': eight_words, \n",
    "                  'nine': nine_words, \n",
    "                  'ten plus': ten_plus_words}"
   ]
  },
  {
   "cell_type": "code",
   "execution_count": null,
   "metadata": {},
   "outputs": [],
   "source": [
    "frequency_dict = {} # Create dictionary for bar chart below\n",
    "\n",
    "for number, list in all_word_lists.items():\n",
    "    frequency_dict[number + \" letter words\"] = len(list)\n",
    "    print(\"There are\", len(list), number, \"letter words in \\'%s\\'\" %(str(file)))"
   ]
  },
  {
   "cell_type": "code",
   "execution_count": null,
   "metadata": {},
   "outputs": [],
   "source": [
    "plt.bar(range(len(frequency_dict)), frequency_dict.values(), align='center')\n",
    "plt.title(\"Frequency of different word lenghts\")\n",
    "plt.ylabel(\"Counts\")\n",
    "plt.xlabel(\"Word lenghts\")\n",
    "plt.xticks(range(len(frequency_dict)), frequency_dict.keys(), rotation=90)\n",
    "plt.savefig(outdir + '2015_word_lengths.png', dpi=200, bbox_inches='tight') # change filename as wished\n",
    "plt.show()"
   ]
  },
  {
   "cell_type": "markdown",
   "metadata": {},
   "source": [
    "**Print the n most common words of different lengths**"
   ]
  },
  {
   "cell_type": "code",
   "execution_count": null,
   "metadata": {},
   "outputs": [],
   "source": [
    "def most_common_words(list, n=number_top_words): # number_top_words is defined above\n",
    "    word_counts = Counter(list)\n",
    "    top_words = word_counts.most_common(n)\n",
    "    print('Total number of tokens is: %s' \n",
    "          %(len(word_counts))) # to print the total number of unique words of this length\n",
    "    print('Most frequent words:')\n",
    "    for word, count in top_words:\n",
    "        print('%s: %10d' %(word, count))"
   ]
  },
  {
   "cell_type": "code",
   "execution_count": null,
   "metadata": {},
   "outputs": [],
   "source": [
    "most_common_words(ten_plus_words) # change list between brackets to print most frequent words with different length"
   ]
  },
  {
   "cell_type": "code",
   "execution_count": null,
   "metadata": {},
   "outputs": [],
   "source": []
  }
 ],
 "metadata": {
  "kernelspec": {
   "display_name": "Python 3 (ipykernel)",
   "language": "python",
   "name": "python3"
  },
  "language_info": {
   "codemirror_mode": {
    "name": "ipython",
    "version": 3
   },
   "file_extension": ".py",
   "mimetype": "text/x-python",
   "name": "python",
   "nbconvert_exporter": "python",
   "pygments_lexer": "ipython3",
   "version": "3.11.3"
  }
 },
 "nbformat": 4,
 "nbformat_minor": 4
}

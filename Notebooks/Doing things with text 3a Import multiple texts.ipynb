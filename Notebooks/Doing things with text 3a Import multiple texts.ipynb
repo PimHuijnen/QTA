{
 "cells": [
  {
   "cell_type": "markdown",
   "metadata": {},
   "source": [
    "# Doing things with text 4\n",
    "\n",
    "## Importing and exploring multiple texts (from .txt files) as one corpus"
   ]
  },
  {
   "cell_type": "markdown",
   "metadata": {},
   "source": [
    "### Import packages"
   ]
  },
  {
   "cell_type": "code",
   "execution_count": null,
   "metadata": {},
   "outputs": [],
   "source": [
    "import os\n",
    "from bs4 import BeautifulSoup\n",
    "import unicodedata\n",
    "import re\n",
    "from nltk.tokenize import word_tokenize  # needs to be installed first via nltk.download()\n",
    "from nltk.corpus import stopwords  # needs to be installed first via nltk.download()\n",
    "from wordcloud import WordCloud\n",
    "import matplotlib.pyplot as plt \n",
    "from collections import Counter"
   ]
  },
  {
   "cell_type": "markdown",
   "metadata": {},
   "source": [
    "#### Define in- and out-directories\n",
    "\n",
    "Indir is a folder on your computer with multiple text files. Outdir is a folder (to be made) to store cleaned versions of the files"
   ]
  },
  {
   "cell_type": "code",
   "execution_count": null,
   "metadata": {},
   "outputs": [],
   "source": [
    "indir = r'/Users/huijn001/surfdrive/data_lokaal/test/'\n",
    "outdir = r'/Users/huijn001/surfdrive/data_lokaal/test1/'\n",
    "os.makedirs(os.path.dirname(outdir), exist_ok=True) # makes outdir if it doesn't exist already"
   ]
  },
  {
   "cell_type": "markdown",
   "metadata": {},
   "source": [
    "## Preprocessing"
   ]
  },
  {
   "cell_type": "code",
   "execution_count": null,
   "metadata": {},
   "outputs": [],
   "source": [
    "def remove_html(text):\n",
    "    \"\"\" Use the library BeautifulSoup (bs4) to remove html tags \"\"\"\n",
    "    soup = BeautifulSoup(text, \"lxml\")\n",
    "    clean_text = soup.get_text()\n",
    "    return clean_text\n",
    "\n",
    "def remove_short_words(words, n=3):\n",
    "    new_words = []\n",
    "    for word in words:\n",
    "        if len(word) >= n:\n",
    "            new_words.append(word)\n",
    "    return new_words\n",
    "\n",
    "def remove_non_ascii(words):\n",
    "    \"\"\"Remove non-ASCII characters from list of tokenized words\"\"\"\n",
    "    new_words = []\n",
    "    for word in words:\n",
    "        new_word = unicodedata.normalize('NFKD', word).encode('ascii', 'ignore').decode('utf-8', 'ignore')\n",
    "        new_words.append(new_word)\n",
    "    return new_words\n",
    "\n",
    "def remove_punctuation(words):\n",
    "    \"\"\"Remove punctuation from list of tokenized words\"\"\"\n",
    "    new_words = []\n",
    "    for word in words:\n",
    "        new_word = re.sub(r'[^\\w\\s]', '', word)\n",
    "        if new_word != '':\n",
    "            new_words.append(new_word)\n",
    "    return new_words\n",
    "\n",
    "def remove_numbers(words):\n",
    "    \"\"\"Remove all integer occurrences in list of tokenized words\n",
    "    \"\"\"\n",
    "    new_words = []\n",
    "    for word in words:\n",
    "        if not word.isdigit():\n",
    "            new_words.append(word)\n",
    "    return new_words\n",
    "\n",
    "def to_lowercase(words):\n",
    "    \"\"\"Convert all characters to lowercase from list of tokenized words\"\"\"\n",
    "    new_words = []\n",
    "    for word in words:\n",
    "        new_word = word.lower()\n",
    "        new_words.append(new_word)\n",
    "    return new_words\n",
    "\n",
    "def remove_stop_words_languages(words, languages=['dutch', 'french']):\n",
    "    \"\"\" Remove stop words from specified languages \"\"\"\n",
    "    all_stop_words = []\n",
    "    for language in languages:\n",
    "        all_stop_words.extend(stopwords.words(language))\n",
    "    stop_words = list(set(all_stop_words))\n",
    "    return remove_stop_words(words, stop_words)\n",
    "\n",
    "def remove_stop_words(words, stop_words):\n",
    "    \"\"\" Given a list of words and stop words, remove stop words \"\"\"\n",
    "    new_words = []\n",
    "    for word in words:\n",
    "        if word not in stop_words:\n",
    "            new_words.append(word)\n",
    "    return new_words"
   ]
  },
  {
   "cell_type": "code",
   "execution_count": null,
   "metadata": {},
   "outputs": [],
   "source": [
    "def all_operations(words):\n",
    "    words = remove_non_ascii(words)\n",
    "    words = remove_punctuation(words)\n",
    "    words = remove_numbers(words)\n",
    "    words = to_lowercase(words)\n",
    "    words = remove_stop_words_languages(words)\n",
    "    words = remove_short_words(words)\n",
    "    return words"
   ]
  },
  {
   "cell_type": "markdown",
   "metadata": {},
   "source": [
    "#### Call functions\n",
    "\n",
    "N.B. Uncheck lines 23 and 25 to save cleaned text files to outdir"
   ]
  },
  {
   "cell_type": "code",
   "execution_count": null,
   "metadata": {},
   "outputs": [],
   "source": [
    "input_as_list = []\n",
    "input_as_string = \"\"\n",
    "\n",
    "# list all files in a given directory\n",
    "files = os.listdir(indir)\n",
    "\n",
    "for infile in files:\n",
    "    # avoid opening files such as .DS_Store\n",
    "    if infile.startswith('.'):\n",
    "        continue\n",
    "    if infile.endswith('.txt'):\n",
    "        # open the file and do something with it, close when done\n",
    "        with open(indir+infile, \"r\") as f:\n",
    "            # try / except clause to catch encoding errors\n",
    "            try:\n",
    "                text = f.read()\n",
    "            except Exception:\n",
    "                print(Exception)\n",
    "        input_as_string += text        \n",
    "        # remove html\n",
    "        clean_text = remove_html(text)\n",
    "        # tokenize to words (needed for subsequent operations)\n",
    "        words = word_tokenize(clean_text)\n",
    "        words = all_operations(words)\n",
    "        # open output file for writing, create it if it doesn't exist\n",
    "        with open(outdir+infile, \"w\") as f:\n",
    "        # write out all words (converting the list to a string with spaces)\n",
    "            f.write(\" \".join(words))\n",
    "        input_as_list.extend(words)"
   ]
  },
  {
   "cell_type": "markdown",
   "metadata": {},
   "source": [
    "**STOP! Run the field below _only_ if your files in indir are already preprocessed**"
   ]
  },
  {
   "cell_type": "code",
   "execution_count": null,
   "metadata": {},
   "outputs": [],
   "source": [
    "input_as_list = []\n",
    "input_as_string = \"\"\n",
    "\n",
    "# list all files in a given directory\n",
    "files = os.listdir(indir)\n",
    "\n",
    "for infile in files:\n",
    "    # avoid opening files such as .DS_Store\n",
    "    if infile.startswith('.'):\n",
    "        continue\n",
    "    if infile.endswith('.txt'):\n",
    "        # open the file and do something with it, close when done\n",
    "        with open(indir+infile, \"r\") as f:\n",
    "            # try / except clause to catch encoding errors\n",
    "            try:\n",
    "                text = f.read()\n",
    "            except Exception:\n",
    "                print(Exception)\n",
    "        input_as_string += text        \n",
    "        # remove html\n",
    "        words = [x for x in text.split(' ')]\n",
    "        input_as_list.extend(words)"
   ]
  },
  {
   "cell_type": "markdown",
   "metadata": {},
   "source": [
    "**If needed, remove custom stop words**"
   ]
  },
  {
   "cell_type": "code",
   "execution_count": null,
   "metadata": {},
   "outputs": [],
   "source": [
    "def custom_stop_words(words):\n",
    "    \"\"\" Given a list of words and custom stop words, remove custom stop words \"\"\"\n",
    "    new_words = []\n",
    "    for word in words:\n",
    "        if word not in custom_words:\n",
    "            new_words.append(word)\n",
    "    return new_words"
   ]
  },
  {
   "cell_type": "code",
   "execution_count": null,
   "metadata": {},
   "outputs": [],
   "source": [
    "custom_words = ['the', 'and', 'that', 'with', 'said', 'this', 'when', 'them', 'were', 'from', 'will', 'there', 'they', 'then', 'their', 'your', 'would', 'only', 'even', 'know', 'could', 'have', 'where', 'come', 'been', 'made', 'well']"
   ]
  },
  {
   "cell_type": "code",
   "execution_count": null,
   "metadata": {},
   "outputs": [],
   "source": [
    "input_as_list = custom_stop_words(input_as_list)"
   ]
  },
  {
   "cell_type": "markdown",
   "metadata": {},
   "source": [
    "# Analysis"
   ]
  },
  {
   "cell_type": "markdown",
   "metadata": {},
   "source": [
    "## Count total number of words"
   ]
  },
  {
   "cell_type": "markdown",
   "metadata": {},
   "source": [
    "Function to count words in a string by splitting on whitespace"
   ]
  },
  {
   "cell_type": "code",
   "execution_count": null,
   "metadata": {},
   "outputs": [],
   "source": [
    "def word_count(string):\n",
    "    words = string.split()\n",
    "    return len(words)"
   ]
  },
  {
   "cell_type": "markdown",
   "metadata": {},
   "source": [
    "**Count total number of tokens (words) in raw text from 'file' before preprocessing**"
   ]
  },
  {
   "cell_type": "code",
   "execution_count": null,
   "metadata": {},
   "outputs": [],
   "source": [
    "print(\"The total number of words in \\'%s\\' before preprocessing is: %s\" %(str(indir), word_count(input_as_string))) # Call function for 'text'"
   ]
  },
  {
   "cell_type": "markdown",
   "metadata": {},
   "source": [
    "**Count total number of tokens (words) in text from 'file' after preprocessing**"
   ]
  },
  {
   "cell_type": "code",
   "execution_count": null,
   "metadata": {},
   "outputs": [],
   "source": [
    "print(\"The total number of words in \\'%s\\' after preprocessing is: %s\" %(str(indir), len(input_as_list))) # Calculate length of list 'input_as_list'"
   ]
  },
  {
   "cell_type": "markdown",
   "metadata": {},
   "source": [
    "**Calculate number of tokens removed by preprocessing**"
   ]
  },
  {
   "cell_type": "code",
   "execution_count": null,
   "metadata": {},
   "outputs": [],
   "source": [
    "print(\"The total number of tokens removed by preprocessing is: %s\" %(word_count(input_as_string) - len(input_as_list)))"
   ]
  },
  {
   "cell_type": "markdown",
   "metadata": {},
   "source": [
    "## Identify and count most common words"
   ]
  },
  {
   "cell_type": "markdown",
   "metadata": {},
   "source": [
    "### **Step 1: most common words globally**"
   ]
  },
  {
   "cell_type": "code",
   "execution_count": null,
   "metadata": {},
   "outputs": [],
   "source": [
    "number_top_words = 20 # set number of most common words to print/plot"
   ]
  },
  {
   "cell_type": "code",
   "execution_count": null,
   "metadata": {},
   "outputs": [],
   "source": [
    "word_counts_total = Counter(input_as_list)\n",
    "most_common_total = word_counts_total.most_common(number_top_words)"
   ]
  },
  {
   "cell_type": "markdown",
   "metadata": {},
   "source": [
    "**Count the total number of types (unique words) in text from 'file' after preprocessing**"
   ]
  },
  {
   "cell_type": "code",
   "execution_count": null,
   "metadata": {},
   "outputs": [],
   "source": [
    "print(\"The total number of types in \\'%s\\' is: %s\" %(str(indir), len(word_counts_total)))"
   ]
  },
  {
   "cell_type": "markdown",
   "metadata": {},
   "source": [
    "**Calculate lexical diversity by dividing number of types by number of tokens (= type token ratio, or TTR)**"
   ]
  },
  {
   "cell_type": "code",
   "execution_count": null,
   "metadata": {},
   "outputs": [],
   "source": [
    "print(f\"The type token ratio of \\'{str(indir)}\\' is: {round(len(word_counts_total)/len(input_as_list)*100, 1)}%\")"
   ]
  },
  {
   "cell_type": "markdown",
   "metadata": {},
   "source": [
    "### Visualize most common words in a bar chart"
   ]
  },
  {
   "cell_type": "code",
   "execution_count": null,
   "metadata": {
    "scrolled": true
   },
   "outputs": [],
   "source": [
    "#### From https://stackoverflow.com/questions/63018726/counter-and-plot-the-most-common-word-in-a-text ####\n",
    "\n",
    "y = [count for word, count in most_common_total]\n",
    "x = [word for word, count in most_common_total]\n",
    "\n",
    "plt.rcParams[\"figure.figsize\"] = (20,10)\n",
    "plt.bar(x, y, color='crimson')\n",
    "plt.title(\"Most common terms\")\n",
    "plt.ylabel(\"Counts\")\n",
    "plt.xlabel(\"Terms\")\n",
    "plt.rc('xtick',labelsize=12)\n",
    "plt.rc('ytick',labelsize=12)\n",
    "#plt.yscale('log') # optionally set a log scale for the y-axis\n",
    "plt.xticks(rotation=45)\n",
    "for i, (word, count) in enumerate(most_common_total):\n",
    "    plt.text(i, count, f' {count} ', rotation=45, size=16,\n",
    "             ha='center', va='top' if i < 10 else 'bottom', color='white' if i < 10 else 'black')\n",
    "plt.xlim(-0.6, len(x)-0.4) # optionally set tighter x lims\n",
    "plt.tight_layout() # change the whitespace such that all labels fit nicely\n",
    "plt.savefig(outdir + '2015_most_common.png', dpi=200, bbox_inches='tight') # change filename as wished\n",
    "plt.show()"
   ]
  },
  {
   "cell_type": "markdown",
   "metadata": {},
   "source": [
    "### Visualize most common words in a word cloud\n",
    "\n",
    "#### Turn input_as_list into string¶"
   ]
  },
  {
   "cell_type": "code",
   "execution_count": null,
   "metadata": {},
   "outputs": [],
   "source": [
    "clean_input_as_string = \" \".join(input_as_list)"
   ]
  },
  {
   "cell_type": "markdown",
   "metadata": {},
   "source": [
    "**generate wordcloud**"
   ]
  },
  {
   "cell_type": "code",
   "execution_count": null,
   "metadata": {},
   "outputs": [],
   "source": [
    "text_cloud = WordCloud(background_color='white', stopwords=custom_words).generate(clean_input_as_string)"
   ]
  },
  {
   "cell_type": "code",
   "execution_count": null,
   "metadata": {},
   "outputs": [],
   "source": [
    "plt.imshow(text_cloud, interpolation='bilinear')\n",
    "plt.axis('off')\n",
    "plt.savefig(outdir + '2015_wordcloud.png', dpi=200, bbox_inches='tight') # change filename as wished\n",
    "plt.show()"
   ]
  },
  {
   "cell_type": "markdown",
   "metadata": {},
   "source": [
    "### **Step 2: Most common words by word length**"
   ]
  },
  {
   "cell_type": "code",
   "execution_count": null,
   "metadata": {},
   "outputs": [],
   "source": [
    "three_words = []\n",
    "four_words = []\n",
    "five_words = []\n",
    "six_words = []\n",
    "seven_words = []\n",
    "eight_words = []\n",
    "nine_words = []\n",
    "ten_plus_words = []\n",
    "\n",
    "for word in input_as_list:\n",
    "    if len(word) == 3:\n",
    "        three_words.append(word)\n",
    "    elif len(word) == 4:\n",
    "        four_words.append(word)\n",
    "    elif len(word) == 5:\n",
    "        five_words.append(word)\n",
    "    elif len(word) == 6:\n",
    "        six_words.append(word)\n",
    "    elif len(word) == 7:\n",
    "        seven_words.append(word)\n",
    "    elif len(word) == 8:\n",
    "        eight_words.append(word)\n",
    "    elif len(word) == 9:\n",
    "        nine_words.append(word)\n",
    "    else:\n",
    "        ten_plus_words.append(word)"
   ]
  },
  {
   "cell_type": "code",
   "execution_count": null,
   "metadata": {},
   "outputs": [],
   "source": [
    "all_word_lists = {'three': three_words, 'four': four_words, 'five': five_words, 'six': six_words, 'seven': seven_words, 'eight': eight_words, 'nine': nine_words, 'ten plus': ten_plus_words}"
   ]
  },
  {
   "cell_type": "code",
   "execution_count": null,
   "metadata": {},
   "outputs": [],
   "source": [
    "frequency_dict = {} # Create dictionary for bar chart below\n",
    "\n",
    "for number, list in all_word_lists.items():\n",
    "    frequency_dict[number + \" letter words\"] = len(list)\n",
    "    print(\"There are\", len(list), number, \"letter words in \\'%s\\'\" %(str(indir)))"
   ]
  },
  {
   "cell_type": "code",
   "execution_count": null,
   "metadata": {},
   "outputs": [],
   "source": [
    "plt.bar(range(len(frequency_dict)), frequency_dict.values(), align='center')\n",
    "plt.title(\"Frequency of different word lenghts\")\n",
    "plt.ylabel(\"Counts\")\n",
    "plt.xlabel(\"Word lenghts\")\n",
    "plt.xticks(range(len(frequency_dict)), frequency_dict.keys(), rotation=90)\n",
    "plt.savefig(outdir + '2015_word_lengths.png', dpi=200, bbox_inches='tight') # change filename as wished\n",
    "plt.show()"
   ]
  },
  {
   "cell_type": "markdown",
   "metadata": {},
   "source": [
    "**Print the n most common words of different lengths**"
   ]
  },
  {
   "cell_type": "code",
   "execution_count": null,
   "metadata": {},
   "outputs": [],
   "source": [
    "def most_common_words(list, n=number_top_words): # number_top_words is defined above\n",
    "    word_counts = Counter(list)\n",
    "    top_words = word_counts.most_common(n)\n",
    "    print('Total number of tokens is: %s' %(len(word_counts))) # to print the total number of unique words of this length\n",
    "    print('Most frequent words:')\n",
    "    for word, count in top_words:\n",
    "        print('%s: %10d' %(word, count))"
   ]
  },
  {
   "cell_type": "code",
   "execution_count": null,
   "metadata": {},
   "outputs": [],
   "source": [
    "most_common_words(ten_plus_words) # change list between brackets to print most frequent words with different length"
   ]
  },
  {
   "cell_type": "code",
   "execution_count": null,
   "metadata": {},
   "outputs": [],
   "source": []
  }
 ],
 "metadata": {
  "kernelspec": {
   "display_name": "Python 3 (ipykernel)",
   "language": "python",
   "name": "python3"
  },
  "language_info": {
   "codemirror_mode": {
    "name": "ipython",
    "version": 3
   },
   "file_extension": ".py",
   "mimetype": "text/x-python",
   "name": "python",
   "nbconvert_exporter": "python",
   "pygments_lexer": "ipython3",
   "version": "3.11.3"
  }
 },
 "nbformat": 4,
 "nbformat_minor": 4
}

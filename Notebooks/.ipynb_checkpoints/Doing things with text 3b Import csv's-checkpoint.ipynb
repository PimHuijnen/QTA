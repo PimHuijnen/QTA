{
 "cells": [
  {
   "cell_type": "markdown",
   "metadata": {},
   "source": [
    "# Doing Things with Text 3b: Import and clean a csv File \n",
    "\n",
    "This notebook introduces the automatic cleaning and saving of a csv file that contains text. "
   ]
  },
  {
   "cell_type": "markdown",
   "metadata": {},
   "source": [
    "### Step 1: Setting Up NLTK\n",
    "\n",
    "NLTK (Natural Language Toolkit) is a library for working with text. To use it, you'll need to download some additional language data the first time you use NLTK. Run the following cell once:"
   ]
  },
  {
   "cell_type": "code",
   "execution_count": null,
   "metadata": {},
   "outputs": [],
   "source": [
    "# Import NLTK and download required packages\n",
    "import nltk\n",
    "nltk.download('punkt')  # Tokenizer\n",
    "nltk.download('stopwords')  # Stopwords"
   ]
  },
  {
   "cell_type": "markdown",
   "metadata": {},
   "source": [
    "### Step 2: Importing Required Packages\n",
    "\n",
    "Here, we're loading a few packages to help with text cleaning:\n",
    "- `os`: Helps with interacting with the operating system, such as managing file paths and directories.\n",
    "- `csv`\n",
    "- `glob`\n",
    "- `re`: For regular expressions (patterns used for finding and cleaning text).\n",
    "- `tqdm.notebook`\n",
    "- `nltk.tokenize`: For splitting text into individual words.\n",
    "- `nltk.corpus.stopwords`: A collection of common words like 'the', 'and', 'is', which are often removed in analysis.\n",
    "- `matplotlib.pyplot`: Allows for creating visualizations like charts and graphs to represent data visually.\n",
    "-  `pandas`: Provides tools for handling and analyzing structured data in tables, making it easier to work with datasets."
   ]
  },
  {
   "cell_type": "code",
   "execution_count": null,
   "metadata": {},
   "outputs": [],
   "source": [
    "import os\n",
    "import csv\n",
    "import glob\n",
    "import re\n",
    "from tqdm.notebook import tqdm\n",
    "from nltk.tokenize import word_tokenize  # needs to be installed first via nltk.download()\n",
    "from nltk.corpus import stopwords  # needs to be installed first via nltk.download()\n",
    "from wordcloud import WordCloud # needs to be installed first via pip install wordcloud\n",
    "import matplotlib.pyplot as plt \n",
    "from collections import Counter\n",
    "import pandas as pd"
   ]
  },
  {
   "cell_type": "markdown",
   "metadata": {
    "jupyter": {
     "source_hidden": true
    }
   },
   "source": [
    "#### Define in- and out-directories"
   ]
  },
  {
   "cell_type": "code",
   "execution_count": null,
   "metadata": {},
   "outputs": [],
   "source": [
    "indir = r'/path/to/indir/'\n",
    "outdir = r'/path/to/outdir/'\n",
    "os.makedirs(os.path.dirname(outdir), exist_ok=True) # makes outdir if it doesn't exist already\n",
    "allfiles = glob.glob(os.path.join(indir, \"*.csv\"))\n",
    "\n",
    "dataset = 'dataset' # here the name of your dataset"
   ]
  },
  {
   "cell_type": "code",
   "execution_count": null,
   "metadata": {},
   "outputs": [],
   "source": [
    "def save_dataset(dataset):\n",
    "    dataset_out = dataset.replace(\" \", \"_\").lower()\n",
    "    return dataset_out\n",
    "\n",
    "def remove_user_defined_stopword_list(words):\n",
    "    \"\"\" Given a hardcoded list of words and stop words, remove stop words \"\"\"\n",
    "    new_words = []\n",
    "    for word in words:\n",
    "        if word not in custom_words:\n",
    "            new_words.append(word)\n",
    "    return new_words"
   ]
  },
  {
   "cell_type": "markdown",
   "metadata": {},
   "source": [
    "check what's in 'allfiles':"
   ]
  },
  {
   "cell_type": "code",
   "execution_count": null,
   "metadata": {},
   "outputs": [],
   "source": [
    "for file in allfiles:\n",
    "    print(file)"
   ]
  },
  {
   "cell_type": "markdown",
   "metadata": {},
   "source": [
    "**check what the data structure of csv's looks like (change 'file.csv' for one of the actual files in indir**)"
   ]
  },
  {
   "cell_type": "code",
   "execution_count": null,
   "metadata": {},
   "outputs": [],
   "source": [
    "df_test = pd.read_csv(indir + 'file.csv', sep='\\t') # most common separators are ';' or ',' or '\\t'\n",
    "print(df_test.head())"
   ]
  },
  {
   "cell_type": "code",
   "execution_count": null,
   "metadata": {},
   "outputs": [],
   "source": [
    "cols_to_keep = ['column', 'column']\n",
    "index_col = 'column' # preferably, the date column"
   ]
  },
  {
   "cell_type": "markdown",
   "metadata": {},
   "source": [
    "### Import csv's as df (with df['text']) as the text column), merge into one large dataframe called 'data"
   ]
  },
  {
   "cell_type": "markdown",
   "metadata": {},
   "source": [
    "#### option 1: importing csv's with raw text, preprocessing including tokenization (takes time)"
   ]
  },
  {
   "cell_type": "code",
   "execution_count": null,
   "metadata": {},
   "outputs": [],
   "source": [
    "data = pd.DataFrame()\n",
    "\n",
    "for file in tqdm(allfiles):\n",
    "    filename = file[-8:-4] # take year from filename to use for outfile\n",
    "    df = pd.read_csv(file, sep=\"\\t\",usecols=cols_to_keep, index_col=index_col)\n",
    "    df['text_clean'] = df['text'].str.lower() # where df['text'] is text; change if needed\n",
    "    df['text_clean'] = [[w for w in word_tokenize(text) if w.isalpha() and len(w) >= 3] \n",
    "                        for text in df['text_clean']] \n",
    "    df['word_count'] = df['text_clean'].str.len()\n",
    "    df['text_clean_str'] = df['text_clean'].apply(' '.join)\n",
    "    data = pd.concat([data, df], axis=0, ignore_index=False)      "
   ]
  },
  {
   "cell_type": "markdown",
   "metadata": {},
   "source": [
    "#### option 2: importing csv's with (relatively) clean text, preprocessing without tokenization (= quicker!)"
   ]
  },
  {
   "cell_type": "code",
   "execution_count": null,
   "metadata": {},
   "outputs": [],
   "source": [
    "data = pd.DataFrame()\n",
    "\n",
    "for file in tqdm(allfiles):\n",
    "    filename = file[-8:-4] # take year from filename to use for outfile\n",
    "    df = pd.read_csv(file, sep=\"\\t\",usecols=cols_to_keep, index_col=index_col)\n",
    "    df['text'] = df['text'].str.lower() # where df['text'] is text; change if needed\n",
    "    df['text'] = df['text'].str.split()\n",
    "    df['text_clean'] = [[w for w in text if w.isalpha() \n",
    "                         and len(w) > 3] for text in df['text']]\n",
    "    df['word_count'] = df['text_clean'].str.len()\n",
    "    df['text_clean_str'] = df['text_clean'].apply(' '.join)\n",
    "    data = pd.concat([data, df], axis=0, ignore_index=False)  "
   ]
  },
  {
   "cell_type": "code",
   "execution_count": null,
   "metadata": {},
   "outputs": [],
   "source": [
    "data.index = pd.to_datetime(data.index, format =\"%Y-%m-%d\") # format depends on format in index (date) column. See https://docs.python.org/3/library/datetime.html#strftime-and-strptime-format-codes\n",
    "data = data.sort_index()"
   ]
  },
  {
   "cell_type": "markdown",
   "metadata": {},
   "source": [
    "## Save dataframe to disk"
   ]
  },
  {
   "cell_type": "markdown",
   "metadata": {},
   "source": [
    "#### Option 1/3: Save df1 (grouped by year) as a single csv ####"
   ]
  },
  {
   "cell_type": "code",
   "execution_count": null,
   "metadata": {},
   "outputs": [],
   "source": [
    "df1 = data.groupby(data.index.year).sum(numeric_only=False)"
   ]
  },
  {
   "cell_type": "code",
   "execution_count": null,
   "metadata": {},
   "outputs": [],
   "source": [
    "df1.to_csv(outdir + '%s_year.csv' %(save_dataset(dataset)), sep='\\t')"
   ]
  },
  {
   "cell_type": "markdown",
   "metadata": {},
   "source": [
    "#### Option 2/3: Save as csv files per year ####"
   ]
  },
  {
   "cell_type": "code",
   "execution_count": null,
   "metadata": {},
   "outputs": [],
   "source": [
    "sum_rows = 0\n",
    "\n",
    "outdir_csv = outdir + '/%s_csv_per_year/' %(save_dataset(dataset))\n",
    "os.makedirs(os.path.dirname(outdir_csv), exist_ok=True) # makes outdir if it doesn't exist already\n",
    "\n",
    "for year in range(1800, 1877, 1):\n",
    "    if len(data.loc[data.index.year == year]) > 0:\n",
    "        df2 = data.loc[data.index.year == year]\n",
    "        print(len(df2.index))\n",
    "        sum_rows += len(df2.index)\n",
    "        df2.to_csv(outdir_csv + str(year) + '.csv', sep='\\t')\n",
    "print(\"The number of rows in the original csv is \" + str(len(data.index)))\n",
    "print(\"The total number of rows of all new csvs is \" + str(sum_rows))"
   ]
  },
  {
   "cell_type": "markdown",
   "metadata": {},
   "source": [
    "#### Option 3/3: Save as txt files per year ####"
   ]
  },
  {
   "cell_type": "code",
   "execution_count": null,
   "metadata": {},
   "outputs": [],
   "source": [
    "outdir_txt = outdir + '/%s_txt_per_year/' %(save_dataset(dataset))\n",
    "os.makedirs(os.path.dirname(outdir_txt), exist_ok=True) # makes outdir if it doesn't exist already\n",
    "\n",
    "for year in range(1800, 1877, 1):\n",
    "    if len(data.loc[data.index.year == year]) > 0:\n",
    "        for index, row in data.iterrows():\n",
    "            if index.year == year:\n",
    "                with open(outdir_txt + str(year) + '.txt', 'a') as f:\n",
    "                    f.write(str(row[\"text_clean_str\"]))"
   ]
  },
  {
   "cell_type": "markdown",
   "metadata": {},
   "source": [
    "## Make single lists and strings"
   ]
  },
  {
   "cell_type": "markdown",
   "metadata": {},
   "source": [
    "**Turn text_clean data into big list 'input_as_list'**"
   ]
  },
  {
   "cell_type": "code",
   "execution_count": null,
   "metadata": {},
   "outputs": [],
   "source": [
    "input_as_list = [item for sublist in data['text_clean'] for item in sublist]"
   ]
  },
  {
   "cell_type": "markdown",
   "metadata": {},
   "source": [
    "**Turn text data into big string 'input_as_string'**"
   ]
  },
  {
   "cell_type": "code",
   "execution_count": 1,
   "metadata": {},
   "outputs": [
    {
     "ename": "NameError",
     "evalue": "name 'data' is not defined",
     "output_type": "error",
     "traceback": [
      "\u001b[0;31m---------------------------------------------------------------------------\u001b[0m",
      "\u001b[0;31mNameError\u001b[0m                                 Traceback (most recent call last)",
      "Cell \u001b[0;32mIn[1], line 1\u001b[0m\n\u001b[0;32m----> 1\u001b[0m input_as_string \u001b[38;5;241m=\u001b[39m \u001b[38;5;124m\"\u001b[39m\u001b[38;5;124m \u001b[39m\u001b[38;5;124m\"\u001b[39m\u001b[38;5;241m.\u001b[39mjoin(data[\u001b[38;5;124m'\u001b[39m\u001b[38;5;124mtext\u001b[39m\u001b[38;5;124m'\u001b[39m])\n",
      "\u001b[0;31mNameError\u001b[0m: name 'data' is not defined"
     ]
    }
   ],
   "source": [
    "input_as_string = \" \".join(data['text']) # data['text'] should be the text column from the original file before preprocessing"
   ]
  },
  {
   "cell_type": "markdown",
   "metadata": {},
   "source": [
    "## Count total number of words"
   ]
  },
  {
   "cell_type": "markdown",
   "metadata": {},
   "source": [
    "Function to count words in a string by splitting on whitespace"
   ]
  },
  {
   "cell_type": "code",
   "execution_count": null,
   "metadata": {},
   "outputs": [],
   "source": [
    "def word_count(string):\n",
    "    words = string.split()\n",
    "    return len(words)"
   ]
  },
  {
   "cell_type": "markdown",
   "metadata": {},
   "source": [
    "**Count total number of tokens (words) in raw text from 'file' before preprocessing**"
   ]
  },
  {
   "cell_type": "code",
   "execution_count": null,
   "metadata": {},
   "outputs": [],
   "source": [
    "print(\"The total number of words in \\'%s\\' before preprocessing is: %s\" \n",
    "      %(dataset, word_count(input_as_string))) # Call function for 'text'"
   ]
  },
  {
   "cell_type": "markdown",
   "metadata": {},
   "source": [
    "**Count total number of tokens (words) in text from 'file' after preprocessing**"
   ]
  },
  {
   "cell_type": "code",
   "execution_count": null,
   "metadata": {},
   "outputs": [],
   "source": [
    "print(\"The total number of words in \\'%s\\' after preprocessing is: %s\" \n",
    "      %(str(indir), len(input_as_list))) # Calculate length of list 'input_as_list'"
   ]
  },
  {
   "cell_type": "markdown",
   "metadata": {},
   "source": [
    "**Calculate number of tokens removed by preprocessing**"
   ]
  },
  {
   "cell_type": "code",
   "execution_count": null,
   "metadata": {},
   "outputs": [],
   "source": [
    "print(\"The total number of tokens removed by preprocessing is: %s\" \n",
    "      %(word_count(input_as_string) - len(input_as_list)))"
   ]
  },
  {
   "cell_type": "markdown",
   "metadata": {},
   "source": [
    "## Identify and count most common words"
   ]
  },
  {
   "cell_type": "markdown",
   "metadata": {},
   "source": [
    "#### User defined stopwords (for wordcloud and Counter). Change if needed!"
   ]
  },
  {
   "cell_type": "code",
   "execution_count": null,
   "metadata": {},
   "outputs": [],
   "source": [
    "custom_words = ['het', 'van', 'een', 'dat', 'zijn'] ### add words as list: 'word', 'word', 'word', etc."
   ]
  },
  {
   "cell_type": "markdown",
   "metadata": {},
   "source": [
    "Remove custom_words from input_as_list"
   ]
  },
  {
   "cell_type": "code",
   "execution_count": null,
   "metadata": {},
   "outputs": [],
   "source": [
    "input_as_list = remove_user_defined_stopword_list(input_as_list)"
   ]
  },
  {
   "cell_type": "markdown",
   "metadata": {},
   "source": [
    "### **Step 1: most common words globally**"
   ]
  },
  {
   "cell_type": "code",
   "execution_count": null,
   "metadata": {},
   "outputs": [],
   "source": [
    "number_top_words = 20 # set number of most common words to print/plot"
   ]
  },
  {
   "cell_type": "markdown",
   "metadata": {},
   "source": [
    "word_counts_total below is a counter object that counts the frequency for each of the words in input_as_list. It feeds the bar chart below. Words that need removed from the bar chart can be put in the custom stopword list custom_words above"
   ]
  },
  {
   "cell_type": "code",
   "execution_count": null,
   "metadata": {},
   "outputs": [],
   "source": [
    "word_counts_total = Counter(remove_user_defined_stopword_list(input_as_list))\n",
    "most_common_total = word_counts_total.most_common(number_top_words)"
   ]
  },
  {
   "cell_type": "markdown",
   "metadata": {},
   "source": [
    "**Count the total number of types (unique words) in text from 'file' after preprocessing**"
   ]
  },
  {
   "cell_type": "code",
   "execution_count": null,
   "metadata": {},
   "outputs": [],
   "source": [
    "print(\"The total number of types in \\'%s\\' is: %s\" %(str(indir), len(word_counts_total)))"
   ]
  },
  {
   "cell_type": "markdown",
   "metadata": {},
   "source": [
    "**Calculate lexical diversity by dividing number of types by number of tokens (= type token ratio, or TTR)**"
   ]
  },
  {
   "cell_type": "code",
   "execution_count": null,
   "metadata": {},
   "outputs": [],
   "source": [
    "print(f\"The type token ratio of \\'{str(indir)}\\' is: {round(len(word_counts_total)/len(input_as_list)*100, 1)}%\")"
   ]
  },
  {
   "cell_type": "markdown",
   "metadata": {},
   "source": [
    "### Visualize most common words in a bar chart"
   ]
  },
  {
   "cell_type": "code",
   "execution_count": null,
   "metadata": {
    "scrolled": true
   },
   "outputs": [],
   "source": [
    "#### From https://stackoverflow.com/questions/63018726/counter-and-plot-the-most-common-word-in-a-text ####\n",
    "\n",
    "y = [count for word, count in most_common_total]\n",
    "x = [word for word, count in most_common_total]\n",
    "\n",
    "plt.rcParams[\"figure.figsize\"] = (20,10)\n",
    "plt.bar(x, y, color='crimson')\n",
    "plt.title(\"Most common terms\")\n",
    "plt.ylabel(\"Counts\")\n",
    "plt.xlabel(\"Terms\")\n",
    "plt.rc('xtick',labelsize=12)\n",
    "plt.rc('ytick',labelsize=12)\n",
    "#plt.yscale('log') # optionally set a log scale for the y-axis\n",
    "plt.xticks(rotation=45)\n",
    "for i, (word, count) in enumerate(most_common_total):\n",
    "    plt.text(i, count, f' {count} ', rotation=45, size=16,\n",
    "             ha='center', va='top' if i < 10 else 'bottom', color='white' if i < 10 else 'black')\n",
    "plt.xlim(-0.6, len(x)-0.4) # optionally set tighter x lims\n",
    "plt.tight_layout() # change the whitespace such that all labels fit nicely\n",
    "plt.savefig(outdir + '%s_most_common.png' %(save_dataset(dataset)), dpi=200, bbox_inches='tight') # change filename as wished\n",
    "plt.show()"
   ]
  },
  {
   "cell_type": "markdown",
   "metadata": {},
   "source": [
    "### Visualize most common words in a word cloud\n",
    "\n",
    "#### Turn input_as_list into string¶"
   ]
  },
  {
   "cell_type": "code",
   "execution_count": null,
   "metadata": {},
   "outputs": [],
   "source": [
    "clean_input_as_string = \" \".join(data['text_clean_str'])"
   ]
  },
  {
   "cell_type": "markdown",
   "metadata": {},
   "source": [
    "**generate wordcloud**"
   ]
  },
  {
   "cell_type": "code",
   "execution_count": null,
   "metadata": {},
   "outputs": [],
   "source": [
    "text_cloud = WordCloud(background_color='white', stopwords=custom_words).generate(clean_input_as_string)"
   ]
  },
  {
   "cell_type": "code",
   "execution_count": null,
   "metadata": {},
   "outputs": [],
   "source": [
    "plt.imshow(text_cloud, interpolation='bilinear')\n",
    "plt.axis('off')\n",
    "plt.savefig(outdir + '%s_wordcloud.png' %(save_dataset(dataset)), dpi=200, bbox_inches='tight') # change filename as wished\n",
    "plt.show()"
   ]
  },
  {
   "cell_type": "markdown",
   "metadata": {},
   "source": [
    "### Print, save and visualize most common words per dataframe row"
   ]
  },
  {
   "cell_type": "code",
   "execution_count": null,
   "metadata": {},
   "outputs": [],
   "source": [
    "with open(outdir + '%s_mostcommon_year.txt' %(save_dataset(dataset)), 'a') as f:\n",
    "    print('Most common words per year in %s\\n' %(dataset), file=f)\n",
    "    for date, row in zip(df1.index, df1['text_clean']):\n",
    "        word_counts = Counter(remove_user_defined_stopword_list(row))\n",
    "        most_common_words = word_counts.most_common(number_top_words)\n",
    "        print('Most common words in %s:' %(date))\n",
    "        print('Most common words in %s:' %(date), file=f)\n",
    "        for word, count in most_common_words:\n",
    "            print('%s: %7d' % (word, count))\n",
    "            print('%s: %7d' % (word, count), file=f)\n",
    "        print('\\n')\n",
    "        print('\\n', file=f)"
   ]
  },
  {
   "cell_type": "markdown",
   "metadata": {},
   "source": [
    "#### Most common words per dataframe row in a bar chart"
   ]
  },
  {
   "cell_type": "code",
   "execution_count": null,
   "metadata": {
    "scrolled": true
   },
   "outputs": [],
   "source": [
    "#### From https://stackoverflow.com/questions/63018726/counter-and-plot-the-most-common-word-in-a-text ####\n",
    "\n",
    "for date, row, total_words in zip(df1.index, df1['text_clean'], df1['word_count']):\n",
    "    word_counts = Counter(remove_user_defined_stopword_list(row))\n",
    "    most_common_words = word_counts.most_common(100)\n",
    "\n",
    "    y = [count for word, count in most_common_words]\n",
    "    x = [word for word, count in most_common_words]\n",
    "    \n",
    "    plt.rcParams[\"figure.figsize\"] = (20,10)\n",
    "    plt.bar(x, y, color='crimson')\n",
    "    plt.title(\"Top term frequencies in \" + str(date))\n",
    "    plt.ylabel(\"Counts\")\n",
    "    #plt.yscale('log') # optionally set a log scale for the y-axis\n",
    "    plt.xticks(rotation=45)\n",
    "    for i, (word, count) in enumerate(most_common_words):\n",
    "        plt.text(i, count, f' {count} ', rotation=45,\n",
    "        ha='center', va='top' if i < 10 else 'bottom', color='white' if i < 10 else 'black')\n",
    "    plt.xlim(-0.6, len(x)-0.4) # optionally set tighter x lims\n",
    "    plt.tight_layout() # change the whitespace such that all labels fit nicely\n",
    "    plt.show()"
   ]
  },
  {
   "cell_type": "markdown",
   "metadata": {},
   "source": [
    "### **Step 2: Most common words by word length**"
   ]
  },
  {
   "cell_type": "code",
   "execution_count": null,
   "metadata": {},
   "outputs": [],
   "source": [
    "three_words = []\n",
    "four_words = []\n",
    "five_words = []\n",
    "six_words = []\n",
    "seven_words = []\n",
    "eight_words = []\n",
    "nine_words = []\n",
    "ten_plus_words = []\n",
    "\n",
    "for word in input_as_list:\n",
    "    if len(word) == 3:\n",
    "        three_words.append(word)\n",
    "    elif len(word) == 4:\n",
    "        four_words.append(word)\n",
    "    elif len(word) == 5:\n",
    "        five_words.append(word)\n",
    "    elif len(word) == 6:\n",
    "        six_words.append(word)\n",
    "    elif len(word) == 7:\n",
    "        seven_words.append(word)\n",
    "    elif len(word) == 8:\n",
    "        eight_words.append(word)\n",
    "    elif len(word) == 9:\n",
    "        nine_words.append(word)\n",
    "    else:\n",
    "        ten_plus_words.append(word)"
   ]
  },
  {
   "cell_type": "code",
   "execution_count": null,
   "metadata": {},
   "outputs": [],
   "source": [
    "all_word_lists = {'three': three_words, \n",
    "                  'four': four_words, \n",
    "                  'five': five_words, \n",
    "                  'six': six_words, \n",
    "                  'seven': seven_words, \n",
    "                  'eight': eight_words, \n",
    "                  'nine': nine_words, \n",
    "                  'ten plus': ten_plus_words}"
   ]
  },
  {
   "cell_type": "code",
   "execution_count": null,
   "metadata": {},
   "outputs": [],
   "source": [
    "frequency_dict = {} # Create dictionary for bar chart below\n",
    "\n",
    "for number, list in all_word_lists.items():\n",
    "    frequency_dict[number + \" letter words\"] = len(list)\n",
    "    print(\"There are\", len(list), number, \"letter words in \\'%s\\'\" %(dataset))"
   ]
  },
  {
   "cell_type": "code",
   "execution_count": null,
   "metadata": {},
   "outputs": [],
   "source": [
    "plt.bar(range(len(frequency_dict)), frequency_dict.values(), align='center')\n",
    "plt.title(\"Frequency of different word lenghts in %s\" %(dataset))\n",
    "plt.ylabel(\"Counts\")\n",
    "plt.xlabel(\"Word lenghts\")\n",
    "plt.xticks(range(len(frequency_dict)), frequency_dict.keys(), rotation=90)\n",
    "plt.savefig(outdir + '%s_word_lengths.png' %(save_dataset(dataset)), dpi=200, bbox_inches='tight') # change filename as wished\n",
    "plt.show()"
   ]
  },
  {
   "cell_type": "markdown",
   "metadata": {},
   "source": [
    "**Print the n most common words of different lengths**"
   ]
  },
  {
   "cell_type": "code",
   "execution_count": null,
   "metadata": {},
   "outputs": [],
   "source": [
    "def most_common_words(list, n=number_top_words): # number_top_words is defined above\n",
    "    word_counts = Counter(list)\n",
    "    top_words = word_counts.most_common(n)\n",
    "    print('Total number of tokens is: %s' \n",
    "          %(len(word_counts))) # to print the total number of unique words of this length\n",
    "    print('Most frequent words:')\n",
    "    for word, count in top_words:\n",
    "        print('%s: %10d' %(word, count))"
   ]
  },
  {
   "cell_type": "code",
   "execution_count": null,
   "metadata": {},
   "outputs": [],
   "source": [
    "most_common_words(ten_plus_words) # change list between brackets to print most frequent words with different length"
   ]
  },
  {
   "cell_type": "code",
   "execution_count": null,
   "metadata": {},
   "outputs": [],
   "source": []
  }
 ],
 "metadata": {
  "kernelspec": {
   "display_name": "Python 3 (ipykernel)",
   "language": "python",
   "name": "python3"
  },
  "language_info": {
   "codemirror_mode": {
    "name": "ipython",
    "version": 3
   },
   "file_extension": ".py",
   "mimetype": "text/x-python",
   "name": "python",
   "nbconvert_exporter": "python",
   "pygments_lexer": "ipython3",
   "version": "3.11.5"
  }
 },
 "nbformat": 4,
 "nbformat_minor": 4
}

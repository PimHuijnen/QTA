{
 "cells": [
  {
   "cell_type": "markdown",
   "metadata": {},
   "source": [
    "# Doing things with text 5\n",
    "\n",
    "## TF-IDF on multiple texts _for preprocessed texts_"
   ]
  },
  {
   "cell_type": "markdown",
   "metadata": {},
   "source": [
    "### Import packages"
   ]
  },
  {
   "cell_type": "code",
   "execution_count": null,
   "metadata": {},
   "outputs": [],
   "source": [
    "import os\n",
    "from bs4 import BeautifulSoup\n",
    "import unicodedata\n",
    "import re\n",
    "from nltk.tokenize import word_tokenize  # needs to be installed first via nltk.download()\n",
    "from nltk.corpus import stopwords  # needs to be installed first via nltk.download()\n",
    "from sklearn.feature_extraction.text import TfidfVectorizer, CountVectorizer\n",
    "from sklearn.metrics.pairwise import cosine_similarity, linear_kernel\n",
    "import pandas as pd\n",
    "import numpy as np\n",
    "import matplotlib.pyplot as plt\n",
    "import seaborn as sns"
   ]
  },
  {
   "cell_type": "markdown",
   "metadata": {},
   "source": [
    "#### Define in- and out-directories"
   ]
  },
  {
   "cell_type": "code",
   "execution_count": null,
   "metadata": {},
   "outputs": [],
   "source": [
    "indir = r'/path/to/indir/'\n",
    "outdir = r'/path/to/outdir/'\n",
    "os.makedirs(os.path.dirname(outdir), exist_ok=True) # makes outdir if it doesn't exist already\n",
    "\n",
    "dataset = 'dataset' # give a name to your dataset for outfiles"
   ]
  },
  {
   "cell_type": "markdown",
   "metadata": {},
   "source": [
    "#### User defined stopwords (for Counter)"
   ]
  },
  {
   "cell_type": "code",
   "execution_count": null,
   "metadata": {},
   "outputs": [],
   "source": [
    "stopword_list = [] # ad custom words as 'word', 'word', 'word', etc."
   ]
  },
  {
   "cell_type": "markdown",
   "metadata": {},
   "source": [
    "### Open text files\n",
    "\n",
    "Stores al text files from indir as strings in a list "
   ]
  },
  {
   "cell_type": "code",
   "execution_count": null,
   "metadata": {},
   "outputs": [],
   "source": [
    "file_names = []\n",
    "input_as_list = []\n",
    "all_docs = []\n",
    "\n",
    "\n",
    "# list all files in a given directory\n",
    "files = os.listdir(indir)\n",
    "files = [f for f in files if not f.startswith('.')]\n",
    "\n",
    "for infile in files:\n",
    "    # avoid opening files such as .DS_Store\n",
    "    if infile.startswith('.'):\n",
    "        continue\n",
    "    # avoid opening files other than .txt\n",
    "    if infile.endswith('.txt'): \n",
    "        # add filename to list file_names\n",
    "        file_names.append(infile[:-4]) \n",
    "        # open the file and do something with it, close when done\n",
    "        with open(indir+infile, \"r\") as f:\n",
    "            # try / except clause to catch encoding errors\n",
    "            try:\n",
    "                text = f.read()\n",
    "            except Exception:\n",
    "                print(Exception)\n",
    "        # add text to list of text strings all_docs       \n",
    "        all_docs.append(text)\n",
    "        # add text to list of words input_as_list\n",
    "        words = [x for x in text.split(' ')]\n",
    "        input_as_list.extend(words)"
   ]
  },
  {
   "cell_type": "code",
   "execution_count": null,
   "metadata": {},
   "outputs": [],
   "source": [
    "for file_name in file_names:\n",
    "    print(file_name)"
   ]
  },
  {
   "cell_type": "markdown",
   "metadata": {},
   "source": [
    "## Analysis\n",
    "\n",
    "### Tf-idf\n",
    "\n",
    "From: https://programminghistorian.org/en/lessons/analyzing-documents-with-tfidf\n",
    "See also: https://towardsdatascience.com/natural-language-processing-feature-engineering-using-tf-idf-e8b9d00e7e76"
   ]
  },
  {
   "cell_type": "code",
   "execution_count": null,
   "metadata": {},
   "outputs": [],
   "source": [
    "vectorizer = TfidfVectorizer(max_df=.65, min_df=1, stop_words=None, use_idf=True, norm=None)\n",
    "transformed_documents = vectorizer.fit_transform(all_docs)"
   ]
  },
  {
   "cell_type": "code",
   "execution_count": null,
   "metadata": {},
   "outputs": [],
   "source": [
    "transformed_documents_as_array = transformed_documents.toarray()\n",
    "# use this line of code to verify that the numpy array represents the same number of documents that we have in the file list\n",
    "number_of_docs = len(transformed_documents_as_array)"
   ]
  },
  {
   "cell_type": "code",
   "execution_count": null,
   "metadata": {},
   "outputs": [],
   "source": [
    "print(transformed_documents_as_array)"
   ]
  },
  {
   "cell_type": "code",
   "execution_count": null,
   "metadata": {},
   "outputs": [],
   "source": [
    "# Instigate n subplots, based on number of documents\n",
    "fig, axs = plt.subplots(number_of_docs,1, figsize = [20,20], sharey=False)\n",
    "\n",
    "# Set number of n top terms\n",
    "n = 20\n",
    "\n",
    "# construct a list of output file paths using the previous list of text files the relative path for tf_idf_output\n",
    "output_filenames = [str(txt_file).replace(\".txt\", \".csv\") for txt_file in files]\n",
    "\n",
    "# loop each item in transformed_documents_as_array, using enumerate to keep track of the current position\n",
    "for counter, doc in enumerate(transformed_documents_as_array):\n",
    "    # construct a dataframe\n",
    "    tf_idf_tuples = list(zip(vectorizer.get_feature_names_out(), doc))\n",
    "    one_doc_as_df = pd.DataFrame.from_records(tf_idf_tuples, \n",
    "                                              columns=['term', 'score']).sort_values(by='score', ascending=False).reset_index(drop=True)\n",
    "\n",
    "    # output to csv in outdir using the enumerated value for the filename\n",
    "    one_doc_as_df.to_csv(outdir + '/' + output_filenames[counter])\n",
    "    \n",
    "    top_terms = one_doc_as_df[:n]\n",
    "    ax = axs[counter]\n",
    "    ax.bar(top_terms['term'], top_terms['score'])\n",
    "    ax.set_xlabel('Top terms')\n",
    "    ax.tick_params(labelrotation=45)\n",
    "    ax.set_ylabel('tf-idf score')\n",
    "    ax.set_title('Top ' + str(n) + ' terms with highest tf-idf scores in ' + str(output_filenames[counter]))\n",
    "\n",
    "plt.savefig(outdir + dataset + '_tf_idf.png', dpi=300)\n",
    "\n",
    "plt.show()"
   ]
  },
  {
   "cell_type": "markdown",
   "metadata": {},
   "source": [
    "### Cosine Similarity"
   ]
  },
  {
   "cell_type": "code",
   "execution_count": null,
   "metadata": {},
   "outputs": [],
   "source": [
    "vectorizer2 = CountVectorizer()\n",
    "count_matrix = vectorizer2.fit_transform(all_docs)\n",
    "cosine_sim = cosine_similarity(count_matrix)\n",
    "print(cosine_sim)"
   ]
  },
  {
   "cell_type": "markdown",
   "metadata": {},
   "source": [
    "Turn cosine_sim into pandas dataframe to visualize in heatmap. Name columns and index after correct year"
   ]
  },
  {
   "cell_type": "code",
   "execution_count": null,
   "metadata": {},
   "outputs": [],
   "source": [
    "df_all_docs = pd.DataFrame(cosine_sim, columns = file_names)\n",
    "df_all_docs.index = df_all_docs.index"
   ]
  },
  {
   "cell_type": "code",
   "execution_count": null,
   "metadata": {},
   "outputs": [],
   "source": [
    "print(df_all_docs.head())"
   ]
  },
  {
   "cell_type": "code",
   "execution_count": null,
   "metadata": {},
   "outputs": [],
   "source": [
    "fig, ax = plt.subplots(figsize=(10,10)) \n",
    "sns.heatmap(df_all_docs.corr(), square=True, cmap='RdYlGn', ax=ax)\n",
    "plt.title('Heatmap of Cosine Similarity scores')\n",
    "plt.savefig(outdir + dataset + '_heatmap.png', dpi=300)\n",
    "plt.show()"
   ]
  }
 ],
 "metadata": {
  "kernelspec": {
   "display_name": "Python 3 (ipykernel)",
   "language": "python",
   "name": "python3"
  },
  "language_info": {
   "codemirror_mode": {
    "name": "ipython",
    "version": 3
   },
   "file_extension": ".py",
   "mimetype": "text/x-python",
   "name": "python",
   "nbconvert_exporter": "python",
   "pygments_lexer": "ipython3",
   "version": "3.11.5"
  }
 },
 "nbformat": 4,
 "nbformat_minor": 4
}
